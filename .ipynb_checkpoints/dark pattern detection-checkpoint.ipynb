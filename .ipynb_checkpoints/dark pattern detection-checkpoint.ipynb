{
 "cells": [
  {
   "cell_type": "code",
   "execution_count": 119,
   "id": "ca801e78",
   "metadata": {},
   "outputs": [],
   "source": [
    "# !pip install wordcloud"
   ]
  },
  {
   "cell_type": "code",
   "execution_count": 120,
   "id": "b60e7b23",
   "metadata": {},
   "outputs": [],
   "source": [
    "import numpy as np\n",
    "import pandas as pd\n",
    "\n",
    "import matplotlib.pyplot as plt\n",
    "import seaborn as sns\n",
    "sns.set_style(\"darkgrid\")\n",
    "%matplotlib inline\n",
    "\n",
    "import string\n",
    "import nltk\n",
    "from nltk.corpus import stopwords\n",
    "from nltk.tokenize import word_tokenize\n",
    "from wordcloud import WordCloud\n",
    "from sklearn.feature_extraction.text import CountVectorizer\n",
    "from nltk.stem import WordNetLemmatizer\n",
    "\n",
    "from sklearn.model_selection import train_test_split \n",
    "from sklearn import metrics"
   ]
  },
  {
   "cell_type": "code",
   "execution_count": 121,
   "id": "c6080e39",
   "metadata": {},
   "outputs": [
    {
     "data": {
      "text/html": [
       "<div>\n",
       "<style scoped>\n",
       "    .dataframe tbody tr th:only-of-type {\n",
       "        vertical-align: middle;\n",
       "    }\n",
       "\n",
       "    .dataframe tbody tr th {\n",
       "        vertical-align: top;\n",
       "    }\n",
       "\n",
       "    .dataframe thead th {\n",
       "        text-align: right;\n",
       "    }\n",
       "</style>\n",
       "<table border=\"1\" class=\"dataframe\">\n",
       "  <thead>\n",
       "    <tr style=\"text-align: right;\">\n",
       "      <th></th>\n",
       "      <th>text</th>\n",
       "      <th>label</th>\n",
       "    </tr>\n",
       "  </thead>\n",
       "  <tbody>\n",
       "    <tr>\n",
       "      <th>0</th>\n",
       "      <td>FLASH SALE | LIMITED TIME ONLY Shop Now</td>\n",
       "      <td>1</td>\n",
       "    </tr>\n",
       "    <tr>\n",
       "      <th>1</th>\n",
       "      <td>Pillowcases &amp; Shams</td>\n",
       "      <td>0</td>\n",
       "    </tr>\n",
       "    <tr>\n",
       "      <th>2</th>\n",
       "      <td>Write a review</td>\n",
       "      <td>0</td>\n",
       "    </tr>\n",
       "    <tr>\n",
       "      <th>3</th>\n",
       "      <td>To start your return, simply click on the foll...</td>\n",
       "      <td>0</td>\n",
       "    </tr>\n",
       "    <tr>\n",
       "      <th>4</th>\n",
       "      <td>newsletter signup (privacy policy)</td>\n",
       "      <td>0</td>\n",
       "    </tr>\n",
       "    <tr>\n",
       "      <th>...</th>\n",
       "      <td>...</td>\n",
       "      <td>...</td>\n",
       "    </tr>\n",
       "    <tr>\n",
       "      <th>2349</th>\n",
       "      <td>Bra Panty Set</td>\n",
       "      <td>0</td>\n",
       "    </tr>\n",
       "    <tr>\n",
       "      <th>2350</th>\n",
       "      <td>DressesFootwearHatsHoodies &amp; SweatshirtsJersey...</td>\n",
       "      <td>0</td>\n",
       "    </tr>\n",
       "    <tr>\n",
       "      <th>2351</th>\n",
       "      <td>Only 4 left in stock</td>\n",
       "      <td>1</td>\n",
       "    </tr>\n",
       "    <tr>\n",
       "      <th>2352</th>\n",
       "      <td>Trending Players</td>\n",
       "      <td>0</td>\n",
       "    </tr>\n",
       "    <tr>\n",
       "      <th>2353</th>\n",
       "      <td>10 Left in stock</td>\n",
       "      <td>1</td>\n",
       "    </tr>\n",
       "  </tbody>\n",
       "</table>\n",
       "<p>2354 rows × 2 columns</p>\n",
       "</div>"
      ],
      "text/plain": [
       "                                                   text  label\n",
       "0               FLASH SALE | LIMITED TIME ONLY Shop Now      1\n",
       "1                                   Pillowcases & Shams      0\n",
       "2                                        Write a review      0\n",
       "3     To start your return, simply click on the foll...      0\n",
       "4                   newsletter signup (privacy policy)       0\n",
       "...                                                 ...    ...\n",
       "2349                                     Bra Panty Set       0\n",
       "2350  DressesFootwearHatsHoodies & SweatshirtsJersey...      0\n",
       "2351                               Only 4 left in stock      1\n",
       "2352                                   Trending Players      0\n",
       "2353                                   10 Left in stock      1\n",
       "\n",
       "[2354 rows x 2 columns]"
      ]
     },
     "execution_count": 121,
     "metadata": {},
     "output_type": "execute_result"
    }
   ],
   "source": [
    "df = pd.read_csv('dataset.csv')\n",
    "df"
   ]
  },
  {
   "cell_type": "code",
   "execution_count": 122,
   "id": "02aa3f64",
   "metadata": {},
   "outputs": [
    {
     "name": "stdout",
     "output_type": "stream",
     "text": [
      "<class 'pandas.core.frame.DataFrame'>\n",
      "RangeIndex: 2354 entries, 0 to 2353\n",
      "Data columns (total 2 columns):\n",
      " #   Column  Non-Null Count  Dtype \n",
      "---  ------  --------------  ----- \n",
      " 0   text    2354 non-null   object\n",
      " 1   label   2354 non-null   int64 \n",
      "dtypes: int64(1), object(1)\n",
      "memory usage: 36.9+ KB\n"
     ]
    }
   ],
   "source": [
    "df.info()"
   ]
  },
  {
   "cell_type": "code",
   "execution_count": 123,
   "id": "53b70f70",
   "metadata": {},
   "outputs": [
    {
     "data": {
      "text/plain": [
       "label\n",
       "0    1178\n",
       "1    1176\n",
       "Name: count, dtype: int64"
      ]
     },
     "execution_count": 123,
     "metadata": {},
     "output_type": "execute_result"
    }
   ],
   "source": [
    "df['label'].value_counts()"
   ]
  },
  {
   "cell_type": "code",
   "execution_count": 124,
   "id": "27679cdf",
   "metadata": {},
   "outputs": [
    {
     "data": {
      "text/html": [
       "<div>\n",
       "<style scoped>\n",
       "    .dataframe tbody tr th:only-of-type {\n",
       "        vertical-align: middle;\n",
       "    }\n",
       "\n",
       "    .dataframe tbody tr th {\n",
       "        vertical-align: top;\n",
       "    }\n",
       "\n",
       "    .dataframe thead th {\n",
       "        text-align: right;\n",
       "    }\n",
       "</style>\n",
       "<table border=\"1\" class=\"dataframe\">\n",
       "  <thead>\n",
       "    <tr style=\"text-align: right;\">\n",
       "      <th></th>\n",
       "      <th>label</th>\n",
       "    </tr>\n",
       "  </thead>\n",
       "  <tbody>\n",
       "    <tr>\n",
       "      <th>count</th>\n",
       "      <td>2354.000000</td>\n",
       "    </tr>\n",
       "    <tr>\n",
       "      <th>mean</th>\n",
       "      <td>0.499575</td>\n",
       "    </tr>\n",
       "    <tr>\n",
       "      <th>std</th>\n",
       "      <td>0.500106</td>\n",
       "    </tr>\n",
       "    <tr>\n",
       "      <th>min</th>\n",
       "      <td>0.000000</td>\n",
       "    </tr>\n",
       "    <tr>\n",
       "      <th>25%</th>\n",
       "      <td>0.000000</td>\n",
       "    </tr>\n",
       "    <tr>\n",
       "      <th>50%</th>\n",
       "      <td>0.000000</td>\n",
       "    </tr>\n",
       "    <tr>\n",
       "      <th>75%</th>\n",
       "      <td>1.000000</td>\n",
       "    </tr>\n",
       "    <tr>\n",
       "      <th>max</th>\n",
       "      <td>1.000000</td>\n",
       "    </tr>\n",
       "  </tbody>\n",
       "</table>\n",
       "</div>"
      ],
      "text/plain": [
       "             label\n",
       "count  2354.000000\n",
       "mean      0.499575\n",
       "std       0.500106\n",
       "min       0.000000\n",
       "25%       0.000000\n",
       "50%       0.000000\n",
       "75%       1.000000\n",
       "max       1.000000"
      ]
     },
     "execution_count": 124,
     "metadata": {},
     "output_type": "execute_result"
    }
   ],
   "source": [
    "df.describe()"
   ]
  },
  {
   "cell_type": "code",
   "execution_count": 125,
   "id": "53202fe8",
   "metadata": {},
   "outputs": [
    {
     "data": {
      "text/html": [
       "<div>\n",
       "<style scoped>\n",
       "    .dataframe tbody tr th:only-of-type {\n",
       "        vertical-align: middle;\n",
       "    }\n",
       "\n",
       "    .dataframe tbody tr th {\n",
       "        vertical-align: top;\n",
       "    }\n",
       "\n",
       "    .dataframe thead th {\n",
       "        text-align: right;\n",
       "    }\n",
       "</style>\n",
       "<table border=\"1\" class=\"dataframe\">\n",
       "  <thead>\n",
       "    <tr style=\"text-align: right;\">\n",
       "      <th></th>\n",
       "      <th>label</th>\n",
       "      <th>0</th>\n",
       "      <th>1</th>\n",
       "    </tr>\n",
       "  </thead>\n",
       "  <tbody>\n",
       "    <tr>\n",
       "      <th rowspan=\"4\" valign=\"top\">text</th>\n",
       "      <th>count</th>\n",
       "      <td>1178</td>\n",
       "      <td>1176</td>\n",
       "    </tr>\n",
       "    <tr>\n",
       "      <th>unique</th>\n",
       "      <td>1178</td>\n",
       "      <td>1176</td>\n",
       "    </tr>\n",
       "    <tr>\n",
       "      <th>top</th>\n",
       "      <td>Pillowcases &amp; Shams</td>\n",
       "      <td>FLASH SALE | LIMITED TIME ONLY Shop Now</td>\n",
       "    </tr>\n",
       "    <tr>\n",
       "      <th>freq</th>\n",
       "      <td>1</td>\n",
       "      <td>1</td>\n",
       "    </tr>\n",
       "  </tbody>\n",
       "</table>\n",
       "</div>"
      ],
      "text/plain": [
       "label                          0                                        1\n",
       "text count                  1178                                     1176\n",
       "     unique                 1178                                     1176\n",
       "     top     Pillowcases & Shams  FLASH SALE | LIMITED TIME ONLY Shop Now\n",
       "     freq                      1                                        1"
      ]
     },
     "execution_count": 125,
     "metadata": {},
     "output_type": "execute_result"
    }
   ],
   "source": [
    "df.groupby('label').describe().T"
   ]
  },
  {
   "cell_type": "code",
   "execution_count": 126,
   "id": "90fb1252",
   "metadata": {},
   "outputs": [
    {
     "data": {
      "image/png": "[encoded data removed]",
      "text/plain": [
       "<Figure size 600x600 with 1 Axes>"
      ]
     },
     "metadata": {},
     "output_type": "display_data"
    }
   ],
   "source": [
    "df[\"label\"].value_counts().plot(kind = 'pie',explode=[0, 0.1],figsize=(6, 6),autopct='%1.1f%%',shadow=True)\n",
    "plt.title(\"Dark vs Non-Dark\")\n",
    "plt.legend([\"Dark\", \"Non-Dark\"])\n",
    "plt.show()"
   ]
  },
  {
   "cell_type": "code",
   "execution_count": 127,
   "id": "e694270f",
   "metadata": {},
   "outputs": [],
   "source": [
    "def text_preprocess(txt):\n",
    "    nopunc = [char for char in txt if char not in string.punctuation]\n",
    "\n",
    "    nopunc = ''.join(nopunc)\n",
    "    nopunc = nopunc.lower()\n",
    "    \n",
    "    nostop=[word for word in nopunc.split() if word.lower() not in stopwords.words('english') and word.isalpha()]\n",
    "    \n",
    "    return nostop"
   ]
  },
  {
   "cell_type": "code",
   "execution_count": 128,
   "id": "01aceafe",
   "metadata": {},
   "outputs": [
    {
     "data": {
      "text/html": [
       "<div>\n",
       "<style scoped>\n",
       "    .dataframe tbody tr th:only-of-type {\n",
       "        vertical-align: middle;\n",
       "    }\n",
       "\n",
       "    .dataframe tbody tr th {\n",
       "        vertical-align: top;\n",
       "    }\n",
       "\n",
       "    .dataframe thead th {\n",
       "        text-align: right;\n",
       "    }\n",
       "</style>\n",
       "<table border=\"1\" class=\"dataframe\">\n",
       "  <thead>\n",
       "    <tr style=\"text-align: right;\">\n",
       "      <th></th>\n",
       "      <th>text</th>\n",
       "      <th>label</th>\n",
       "    </tr>\n",
       "  </thead>\n",
       "  <tbody>\n",
       "    <tr>\n",
       "      <th>0</th>\n",
       "      <td>FLASH SALE | LIMITED TIME ONLY Shop Now</td>\n",
       "      <td>1</td>\n",
       "    </tr>\n",
       "    <tr>\n",
       "      <th>1</th>\n",
       "      <td>Pillowcases &amp; Shams</td>\n",
       "      <td>0</td>\n",
       "    </tr>\n",
       "    <tr>\n",
       "      <th>2</th>\n",
       "      <td>Write a review</td>\n",
       "      <td>0</td>\n",
       "    </tr>\n",
       "    <tr>\n",
       "      <th>3</th>\n",
       "      <td>To start your return, simply click on the foll...</td>\n",
       "      <td>0</td>\n",
       "    </tr>\n",
       "    <tr>\n",
       "      <th>4</th>\n",
       "      <td>newsletter signup (privacy policy)</td>\n",
       "      <td>0</td>\n",
       "    </tr>\n",
       "    <tr>\n",
       "      <th>...</th>\n",
       "      <td>...</td>\n",
       "      <td>...</td>\n",
       "    </tr>\n",
       "    <tr>\n",
       "      <th>2349</th>\n",
       "      <td>Bra Panty Set</td>\n",
       "      <td>0</td>\n",
       "    </tr>\n",
       "    <tr>\n",
       "      <th>2350</th>\n",
       "      <td>DressesFootwearHatsHoodies &amp; SweatshirtsJersey...</td>\n",
       "      <td>0</td>\n",
       "    </tr>\n",
       "    <tr>\n",
       "      <th>2351</th>\n",
       "      <td>Only 4 left in stock</td>\n",
       "      <td>1</td>\n",
       "    </tr>\n",
       "    <tr>\n",
       "      <th>2352</th>\n",
       "      <td>Trending Players</td>\n",
       "      <td>0</td>\n",
       "    </tr>\n",
       "    <tr>\n",
       "      <th>2353</th>\n",
       "      <td>10 Left in stock</td>\n",
       "      <td>1</td>\n",
       "    </tr>\n",
       "  </tbody>\n",
       "</table>\n",
       "<p>2354 rows × 2 columns</p>\n",
       "</div>"
      ],
      "text/plain": [
       "                                                   text  label\n",
       "0               FLASH SALE | LIMITED TIME ONLY Shop Now      1\n",
       "1                                   Pillowcases & Shams      0\n",
       "2                                        Write a review      0\n",
       "3     To start your return, simply click on the foll...      0\n",
       "4                   newsletter signup (privacy policy)       0\n",
       "...                                                 ...    ...\n",
       "2349                                     Bra Panty Set       0\n",
       "2350  DressesFootwearHatsHoodies & SweatshirtsJersey...      0\n",
       "2351                               Only 4 left in stock      1\n",
       "2352                                   Trending Players      0\n",
       "2353                                   10 Left in stock      1\n",
       "\n",
       "[2354 rows x 2 columns]"
      ]
     },
     "execution_count": 128,
     "metadata": {},
     "output_type": "execute_result"
    }
   ],
   "source": [
    "df"
   ]
  },
  {
   "cell_type": "code",
   "execution_count": 129,
   "id": "d6bd58a1",
   "metadata": {},
   "outputs": [
    {
     "name": "stdout",
     "output_type": "stream",
     "text": [
      "dark :  1176\n",
      "non dark :  1178\n"
     ]
    }
   ],
   "source": [
    "dark = df[df[\"label\"] == 1][\"text\"]\n",
    "ndark = df[df[\"label\"] == 0][\"text\"]\n",
    "print(\"dark : \",len(dark))\n",
    "print(\"non dark : \",len(ndark))"
   ]
  },
  {
   "cell_type": "code",
   "execution_count": 130,
   "id": "d31b839b",
   "metadata": {},
   "outputs": [
    {
     "data": {
      "text/plain": [
       "0                 FLASH SALE | LIMITED TIME ONLY Shop Now\n",
       "5                                               In demand\n",
       "7                             Hurry! Only 2 left in stock\n",
       "8                                    In Stock only 3 left\n",
       "11                                     Hurry! Only 2 left\n",
       "                              ...                        \n",
       "2343                  No thanks, I like paying full price\n",
       "2347                                          ONLY 9 LEFT\n",
       "2348    No Thanks, I don't want official software at t...\n",
       "2351                                 Only 4 left in stock\n",
       "2353                                     10 Left in stock\n",
       "Name: text, Length: 1176, dtype: object"
      ]
     },
     "execution_count": 130,
     "metadata": {},
     "output_type": "execute_result"
    }
   ],
   "source": [
    "dark"
   ]
  },
  {
   "cell_type": "code",
   "execution_count": null,
   "id": "8a97382a",
   "metadata": {},
   "outputs": [],
   "source": [
    "dark_words = text_preprocess(dark)"
   ]
  },
  {
   "cell_type": "code",
   "execution_count": null,
   "id": "d3aeec54",
   "metadata": {},
   "outputs": [],
   "source": [
    "dark_words[0:15]"
   ]
  },
  {
   "cell_type": "code",
   "execution_count": null,
   "id": "64c5a9ee",
   "metadata": {},
   "outputs": [],
   "source": [
    "dark_wordcloud = WordCloud(width=600, height=400).generate(' '.join(dark_words))\n",
    "plt.figure( figsize=(8,6), facecolor='k')\n",
    "plt.imshow(dark_wordcloud)\n",
    "plt.axis(\"off\")\n",
    "plt.tight_layout(pad=0)\n",
    "plt.show()"
   ]
  },
  {
   "cell_type": "code",
   "execution_count": null,
   "id": "6b92c15c",
   "metadata": {},
   "outputs": [],
   "source": [
    "print(\"Top 10 dark words:\\n\")\n",
    "print(pd.Series(dark_words).value_counts().head(10))"
   ]
  },
  {
   "cell_type": "code",
   "execution_count": null,
   "id": "268f939c",
   "metadata": {},
   "outputs": [],
   "source": [
    "ndark_words = text_preprocess(ndark)"
   ]
  },
  {
   "cell_type": "code",
   "execution_count": null,
   "id": "53eff3e3",
   "metadata": {},
   "outputs": [],
   "source": [
    "ndark_words[:15]"
   ]
  },
  {
   "cell_type": "code",
   "execution_count": null,
   "id": "ec17f8bf",
   "metadata": {},
   "outputs": [],
   "source": [
    "ndark_wordcloud = WordCloud(width=600, height=400).generate(' '.join(ndark_words))\n",
    "plt.figure( figsize=(8,6), facecolor='k')\n",
    "plt.imshow(ndark_wordcloud)\n",
    "plt.axis(\"off\")\n",
    "plt.tight_layout(pad=0)\n",
    "plt.show()"
   ]
  },
  {
   "cell_type": "code",
   "execution_count": null,
   "id": "e8580146",
   "metadata": {},
   "outputs": [],
   "source": [
    "print(\"Top 10 Non dark words are :\\n\")\n",
    "print(pd.Series(ndark_words).value_counts().head(10))"
   ]
  },
  {
   "cell_type": "code",
   "execution_count": null,
   "id": "e66f9900",
   "metadata": {},
   "outputs": [],
   "source": [
    "df[\"text\"] = df[\"text\"].apply(text_preprocess)"
   ]
  },
  {
   "cell_type": "code",
   "execution_count": null,
   "id": "49c53ce8",
   "metadata": {},
   "outputs": [],
   "source": [
    "df"
   ]
  },
  {
   "cell_type": "code",
   "execution_count": null,
   "id": "3dfd51c5",
   "metadata": {},
   "outputs": [],
   "source": [
    "import gensim"
   ]
  },
  {
   "cell_type": "code",
   "execution_count": null,
   "id": "609ee80a",
   "metadata": {},
   "outputs": [],
   "source": [
    "from gensim import models"
   ]
  },
  {
   "cell_type": "code",
   "execution_count": null,
   "id": "e93348d4",
   "metadata": {},
   "outputs": [],
   "source": [
    "vector_size_n_w2v = 5\n",
    "\n",
    "w2v_model = gensim.models.Word2Vec(vector_size=vector_size_n_w2v,\n",
    "                     window=3,\n",
    "                     min_count=1,\n",
    "                     sg=0) # 0=CBOW, 1=Skip-gram\n",
    "\n",
    "print(w2v_model)"
   ]
  },
  {
   "cell_type": "code",
   "execution_count": null,
   "id": "231dd2ac",
   "metadata": {},
   "outputs": [],
   "source": [
    "w2v_model.build_vocab(df['text'])\n",
    "print(w2v_model)"
   ]
  },
  {
   "cell_type": "code",
   "execution_count": null,
   "id": "778155f9",
   "metadata": {},
   "outputs": [],
   "source": [
    "w2v_model.train(df['text'], \n",
    "                total_examples=w2v_model.corpus_count, \n",
    "                epochs=5)"
   ]
  },
  {
   "cell_type": "code",
   "execution_count": null,
   "id": "1df2421b",
   "metadata": {},
   "outputs": [],
   "source": [
    "len(w2v_model.wv.index_to_key)"
   ]
  },
  {
   "cell_type": "code",
   "execution_count": null,
   "id": "14fa2e0b",
   "metadata": {},
   "outputs": [],
   "source": [
    "words = set(w2v_model.wv.index_to_key)\n",
    "\n",
    "def get_word_vectors(words_list, model, max_length):\n",
    "    vectors = [model.wv[i] for i in words_list if i in model.wv]\n",
    "    while len(vectors) < max_length:\n",
    "        vectors.append(np.zeros(model.vector_size))  # Use model.vector_size instead of a fixed size\n",
    "    return np.array(vectors)\n",
    "\n",
    "\n",
    "MAX_LENGTH = 100\n",
    "\n",
    "df['w2v'] = df['text'].apply(lambda x: get_word_vectors(x, w2v_model, MAX_LENGTH))\n",
    "\n",
    "df['w2v'] = df['w2v'].apply(lambda x: x.flatten()) "
   ]
  },
  {
   "cell_type": "code",
   "execution_count": null,
   "id": "c8d16e86",
   "metadata": {},
   "outputs": [],
   "source": [
    "df"
   ]
  },
  {
   "cell_type": "code",
   "execution_count": null,
   "id": "fa61bc85",
   "metadata": {},
   "outputs": [],
   "source": [
    "df1 = pd.DataFrame(df['w2v'].tolist(), columns=[f'w2v_{i+1}' for i in range(len(df['w2v'].iloc[0]))])\n",
    "df1"
   ]
  },
  {
   "cell_type": "markdown",
   "id": "54e72190",
   "metadata": {},
   "source": [
    "# SVC"
   ]
  },
  {
   "cell_type": "code",
   "execution_count": null,
   "id": "82ff3df7",
   "metadata": {},
   "outputs": [],
   "source": [
    "from sklearn.model_selection import train_test_split\n",
    "from sklearn.svm import SVC\n",
    "from sklearn.metrics import accuracy_score\n",
    "\n",
    "X = df1\n",
    "y = df['label']\n",
    "\n",
    "X_train, X_test, y_train, y_test = train_test_split(X, y, test_size=0.2, random_state=42)\n",
    "\n",
    "model = SVC()\n",
    "model.fit(X_train, y_train)\n",
    "\n",
    "y_pred = model.predict(X_test)\n",
    "\n",
    "accuracy = accuracy_score(y_test, y_pred)\n",
    "print(f\"Accuracy: {accuracy}\")\n"
   ]
  },
  {
   "cell_type": "code",
   "execution_count": null,
   "id": "1410b2ab",
   "metadata": {},
   "outputs": [],
   "source": []
  },
  {
   "cell_type": "code",
   "execution_count": null,
   "id": "760f61bd",
   "metadata": {},
   "outputs": [],
   "source": [
    "def preprocess_sentence(sentence):\n",
    "    tokens = word_tokenize(sentence)\n",
    "\n",
    "    tokens = [word for word in tokens if word.isalnum()]\n",
    "\n",
    "    tokens = [word.lower() for word in tokens]\n",
    "\n",
    "    stop_words = set(stopwords.words('english'))\n",
    "    tokens = [word for word in tokens if word not in stop_words]\n",
    "\n",
    "    lemmatizer = WordNetLemmatizer()\n",
    "    tokens = [lemmatizer.lemmatize(word) for word in tokens]\n",
    "\n",
    "    return tokens\n",
    "\n",
    "def get_word_vectors(words_list, model, max_length):\n",
    "    vectors = [model.wv[i] for i in words_list if i in model.wv]\n",
    "    while len(vectors) < max_length:\n",
    "        vectors.append(np.zeros(model.vector_size))  # Use model.vector_size instead of a fixed size\n",
    "    return np.array(vectors)\n",
    "\n",
    "\n",
    "def predict_class_for_sentence(sentence, w2v_model, xgb_model, max_length):\n",
    "    processed_sentence = preprocess_sentence(sentence)\n",
    "\n",
    "    sentence_w2v = get_word_vectors(processed_sentence, w2v_model, max_length)\n",
    "    \n",
    "    # Ensure that the feature dimensions match the XGBoost model's expectations\n",
    "    num_expected_features = len(xgb_model.get_booster().get_dump()[0].split('\\n')[0].split('[')[1].split(']')[0].split(','))\n",
    "\n",
    "    if sentence_w2v.shape[1] != num_expected_features:\n",
    "        raise ValueError(f\"Feature shape mismatch, expected: {num_expected_features}, got {sentence_w2v.shape[1]}\")\n",
    "\n",
    "    prediction = xgb_model.predict(sentence_w2v)\n",
    "\n",
    "    return prediction[0]\n",
    "\n"
   ]
  },
  {
   "cell_type": "markdown",
   "id": "7b26b31e",
   "metadata": {},
   "source": [
    "# Random Forest Classifier"
   ]
  },
  {
   "cell_type": "code",
   "execution_count": null,
   "id": "ae94fcca",
   "metadata": {},
   "outputs": [],
   "source": [
    "from sklearn.ensemble import RandomForestClassifier\n",
    "\n",
    "rf_model = RandomForestClassifier(n_estimators=100, random_state=42)\n",
    "rf_model.fit(X_train, y_train)\n",
    "\n",
    "y_pred_rf = rf_model.predict(X_test)\n",
    "\n",
    "accuracy_rf = accuracy_score(y_test, y_pred_rf)\n",
    "print(f\"Random Forest Accuracy: {accuracy_rf}\")"
   ]
  },
  {
   "cell_type": "code",
   "execution_count": null,
   "id": "d46a651f",
   "metadata": {},
   "outputs": [],
   "source": []
  },
  {
   "cell_type": "markdown",
   "id": "ea383dd8",
   "metadata": {},
   "source": [
    "# XGBoost"
   ]
  },
  {
   "cell_type": "code",
   "execution_count": null,
   "id": "99cf287f",
   "metadata": {},
   "outputs": [],
   "source": [
    "# !pip install xgboost"
   ]
  },
  {
   "cell_type": "code",
   "execution_count": null,
   "id": "4b4b2372",
   "metadata": {},
   "outputs": [],
   "source": [
    "from xgboost import XGBClassifier\n",
    "\n",
    "xgb_model = XGBClassifier(random_state=42)\n",
    "xgb_model.fit(X_train, y_train)\n",
    "\n",
    "y_pred_xgb = xgb_model.predict(X_test)\n",
    "\n",
    "accuracy_xgb = accuracy_score(y_test, y_pred_xgb)\n",
    "print(f\"XGBoost Accuracy: {accuracy_xgb}\")"
   ]
  },
  {
   "cell_type": "code",
   "execution_count": null,
   "id": "12768090",
   "metadata": {},
   "outputs": [],
   "source": []
  },
  {
   "cell_type": "code",
   "execution_count": null,
   "id": "d2e3f77e",
   "metadata": {},
   "outputs": [],
   "source": []
  },
  {
   "cell_type": "code",
   "execution_count": null,
   "id": "7ed3f875",
   "metadata": {},
   "outputs": [],
   "source": []
  },
  {
   "cell_type": "code",
   "execution_count": null,
   "id": "4b370c68",
   "metadata": {},
   "outputs": [],
   "source": [
    "input_sentence = \"Merchant Machine Whether shopping for essentials or indulging in some retail therapy, over 2.14 billion people now shop online. While the activity can be a great mood boost, on other occasions the trip from product page to checkout is riddled with confusing distractions and nasty surprises. For example, have you ever been ready to pay for your haul and been blind-sided by expensive extra fees? Or how about being tricked by confusing wording into signing up for something you didn’t mean to? If that sounds familiar, you’ve encountered what’s known as a dark pattern — a tactic used by retailers to trick online shoppers into completing an action and often making card payments that benefits the brand more than the customer. First identified in 2010 by UX specialist Harry Brignull, dark patterns used by shopping websites include misleading ads, misdirection and tricking customers into a subscription that’s near impossible to get out of — and unfortunately, these tactics are all over the web. According to Which, dark patterns work by exploiting us on a subconscious level and taking advantage of an online shopper’s limited attention. In other words, they’re designed expertly well to get you to spend your money, share your data and stay a customer for longer than you’d like. With this in mind, we wondered: which major online retailers and brands are the worst offenders for using these tactics? Taking inspiration from a Rouge Media study that found Shein to be the most manipulative fast fashion brand, our researchers at Merchant Machine explored even more categories of online shopping websites to find out. Sections Merchant Machine visited 72 online retailers and mimicked a real online experience by adding things to the shopping basket or making a hotel booking following the user journey all the way to the checkout stage. We counted each instance of a dark pattern that we came across and ranked the results to reveal which retailers were the worst offenders. From viruses to scams, the internet has long been full of shady practices.Still, it wasn’t until 2010 that UX specialist Harry Brignull began to shine a light on the manipulative online tactics that even the most famous brands use. He named these tactics ‘dark patterns,’ reflecting just how mentally and financially harmful these tactics can be if they work on the customer. For example, one Which poll found that 45% of people felt manipulated or annoyed by dark patterns, and more than one in ten (13%) found that dark patterns influenced them into spending more money than they intended. The U.S. Federal Trade Commission also reported that when users aren’t shown ticket fees upfront, they end up spending 20% more money. Dark patterns in a website’s design can also trick you into sharing more data than you’re comfortable with. The best way to defend yourself against dark patterns is by getting to know them. So, let’s get into the 12 main types and what they can look like in action… Click here to see the image in full size Our overall research reveals that Amazon counts the most (11) dark patterns on its website. The dark patterns we found included a subscription box that was automatically ticked, making the more expensive payment option the default choice. Alternative payment options were also greyed out, misdirecting the user into focusing on the most expensive option. Amazon.com’s dark patterns have made the headlines recently. In July 2022, EU regulators forced Amazon to revamp its complicated Amazon Prime unsubscription process to one that allows users to unsubscribe in just two steps. The U.S. Federal Trade Commission also has an ongoing investigation into Prime’s sign-up and cancellation process. Click here to see the image in full size A subscription that’s easy to get into but difficult to get out of is an example of a dark pattern known as a roach motel. If you’re in the UK and efforts to cancel a paid subscription lead nowhere, contact your bank to stop the payments. U.S. consumers should follow the advice given by the Consumer Financial Protection Bureau and give your bank a “stop payment order.” Amazon.com is the worst electronics retailer on the internet for featuring dark patterns; we counted 11 in total. Among some of the tactics we found was an instance of ‘confirmshaming’ — a retailer making you feel guilty to pressure you into taking a particular action. Amazon did this by offering a ‘last chance’ Prime subscription at the checkout. Computer brands Dell and HP are tied in second place as the next worst offenders: on their respective websites, we counted three dark patterns. At the checkout page on both websites, suggested accessories were advertised and an extra tax was applied. Both pages also had the option to receive marketing emails automatically ticked, meaning the customer would need to manually untick a box to not receive emails by default. Click here to see the image in full size Pre-selected checkboxes on websites can cause users to accidentally sign up for mailing lists, share their data and enter into a contract. The Electronic Frontier Foundation highlights how political fundraising websites in the past have made monthly donations the default option when making a donation, so users end up getting charged repeatedly by mistake. The internet has made it easier than ever to get your weekly shop, and being able to order essentials remotely proved especially important during the COVID-19 pandemic. Unfortunately, some grocery websites employ manipulative tactics to get you to spend more than you want to. Our data reveals that the worst of all is Instacart: from choosing products to checking out, we counted five dark patterns, including hidden fees, a countdown timer to pressure you into making a purchase and a free trial that ends in a pricey $99 charge if you forget to cancel. Click here to see the image in full size Instacart is hugely popular in the U.S., where in 2021 it made up 45% of the grocery delivery market, and it works by allowing customers to buy groceries through the app for a separate personal shopper to collect and deliver. The app’s misleading tactics have attracted controversy on more than one occasion in recent years; for example, in 2020, Instacart was sued by the District of Columbia’s attorney general for hiding additional service fees at the checkout stage. When we shopped on American brand Under Armour’s website, we counted five dark patterns — more than any other sportswear brand in our analysis. Troubling tactics we noticed included perks to make you spend more (e.g., free shipping over $99), 15% off deals for signing up with your email address and a “limited time offer” message that might pressure a customer into confirming a purchase. A GOV.UK report explains that one way that time-limited offers work is by creating a sense of urgency and exploiting a customer’s regret about missing out on a deal. Click here to see the image in full size Customer experience is one thing that suffers when brands use frustrating and misleading tactics. According to Xigen, 60% of people won’t return to a website after a bad user experience (UX), and nearly one in two people in their poll said that they wouldn’t interact with a brand ever again if they experienced problems unsubscribing. UX expert Paul Boag sums it up best when he writes: “What does it say about a [company’s] attitude towards its customers if it seeks to manipulate them?” For some people, stocking up on luxurious beauty products is a form of self-care. But depending on how a beauty brand’s website is designed, online shopping can quickly turn into a frustrating nightmare. According to our analysis, Anastasia Beverly Hills has more dark patterns (eight) on its website than any other beauty brand. These dark patterns included sign-up perks like discounts (and a guilt-tripping “I’ll pay full price” message if you decline), free shipping offers when you spend over $25 and a premium delivery option auto-ticked at checkout. Click here to see the image in full size Of all the retailer categories in our analysis, the beauty websites we visited counted the most dark patterns on average (3.6). Most of them offered free shipping or gifts if you spent a minimum amount of money. According to author Dan Ariely, the word ‘free’ is pretty powerful at altering people’s behaviour, and of all the perks, free shipping seems to be the most popular. Our research reveals that four travel websites count four dark patterns apiece: these are Hotels.com, Vrbo, Expedia and Travelocity (which is owned by Expedia). Tactics we came across include sign-up perks, taxes and fees added at checkout, confirmshaming messages when you decline travel insurance and pressurising pop-ups, e.g., “if you don’t book now this amazing offer will be gone.” Click here to see the image in full size In 2019, security researcher Ophir Harpaz was booking a flight when a message popped up to tell her that 38 other people were also looking at the same flight — a prompt designed to make her book faster. However, on inspecting the webpage’s code, Harpaz found that the number 38 was, in fact, randomly generated. Travel websites are unfortunately full of these misleading tactics, and in recent years it’s led to major hotel websites landing in hot water with the UK’s Competition and Markets Authority. Online shopping can be a minefield of tactics to keep you as a subscriber, push you over the checkout finish line or charge you more money than you planned. Some websites, however, are more manipulative than others. Explore our HTML table below to find out how many dark patterns we counted on a particular brand’s website. While it might all seem a bit scary, on the plus side, dark patterns are getting more attention on a legal level: in 2021, the U.S. Federal Trade Commission ramped up efforts to stop websites from tricking customers into hard-to-cancel subscriptions, and in Europe, the EU’s Digital Service Act aims to ban dark patterns on online platforms. The EU’s strict GDPR regulations have also banned pre-selected checkboxes for allowing cookies on web pages. Until the day that dark patterns are a thing of the past, you can protect yourself online by getting to know the types of pitfalls to avoid. If you come across one, dark pattern expert Harry Brignull encourages users to publicly expose the company responsible and runs a Twitter account for that purpose. Review sites like TrustPilot are also a helpful way to read about a company before signing up for a service or making a purchase. Inspired by this Rouge Media study of fast fashion brands, we began by building lists of the most popular brands in key retail categories. Next, we visited the .com version of each brand’s website and noted down any dark patterns that appeared immediately on the home page, such as pop-ups and sign-up offers. Finally, we added items to the basket and followed the process until inputting card details to buy, keeping note of any patterns that appeared. Our Most Popular Guides UK Merchant Account & Credit Card Processing Fee Comparison How to Accept Card Payments Online, In-Store, & By Phone Payment Gateways In The UK: What You Need To Know Square Card Reader Reviews: UK Payment Fees & Pricing Compared SumUp Card Reader Reviews: UK Fees & Pricing Dojo Go Card Machine Reviews, Pricing & Fees Worldpay Reviews: UK Fees & Pricing Top 10 UK Direct Debit Bureau & Recurring Payments Companies Contactless Mobile Card Payment Readers: Which Is Cheapest? PDQ Machines: Cheap Chip & Pin Card Payment Terminals From £19 7 Best Mobile Card Readers With Built-In Receipt Printers Credit Card & PDQ Machine Rental Cost: Hire From Just £19 Square vs Zettle Vs Worldpay & Sumup: Card Reader Comparison Gerry Pong says February 13, 2023 at 3:56 pm Wow! Great article. I shop online at Amazon and Walmart a lot. I WILL be more careful from now on. Consumerist says February 14, 2023 at 3:58 pm This is an excellent article and very timely. I placed an order with Amazon Fresh this weekend and noticed several of these “Dark Pattern” manipulations. It’s offensive and forces the user to pay very close attention to what they’re buying and what Amazon is attempting to make you pay. Also, you’re absolutely correct about Amazon making it difficult to choose the payment option you desire. If you have several choices, Amazon always wants the easiest and most instantaneous way to get their money. They make it difficult for you to make any other choice by greying out other options. While Amazon has been a necessity during this pandemic, as it recedes, it’s becoming easier to spot the manipulations and more off-putting realizing how little they care about their customers. matt says February 17, 2023 at 8:15 pm I use Amazon all the time and never found it difficult to see the trickery. It seems to me like just the typical low-level nonsense only old people fall for. Similar to SamsClub. On the flipside I bought a jacket from Apricoat and the marketing tactics are next level. I felt dirty and still continued to send them money. When I bought mine in Dec after I completed my sale I got a BOGO offer, so I basically bought two more the next day. NOw a month later I am still getting “buy this thing, get this other thing for FREE!” offers and I find it off putting, since I paid full ass price for the first one. Basically they price things all really high so they have fat margins to play with for rention and additional sales via the email marketing. Nice coats. The marketing just leaves me with a bitter taste. Your email address will not be published. Required fields are marked * Comment * Name * Email * Website Δ This site uses Akismet to reduce spam. Learn how your comment data is processed. Please note: Merchant Machine is an information and comparison website only. We do not provide merchant services nor can we recommend which solution is right for you and your business.Blog · About · Privacy Policy · Terms of Use · Contact Us Copyright © 2024 Brilliant British Ltd trading as Merchant Machine Registered Office Address: 2nd Floor 167-169 Great Portland Street, London, United Kingdom, W1W 5PF Company number 10490224\""
   ]
  },
  {
   "cell_type": "code",
   "execution_count": null,
   "id": "e4b016ab",
   "metadata": {},
   "outputs": [],
   "source": [
    "# input_sentence = \"hurry offer ends today\"\n",
    "# change model\n",
    "predicted_class = predict_class_for_sentence(input_sentence, w2v_model, xgb_model, MAX_LENGTH)\n",
    "print(f\"Predicted class for the input sentence: {predicted_class}\")"
   ]
  },
  {
   "cell_type": "code",
   "execution_count": null,
   "id": "82baf7e2",
   "metadata": {},
   "outputs": [],
   "source": []
  },
  {
   "cell_type": "code",
   "execution_count": null,
   "id": "a28c324d",
   "metadata": {},
   "outputs": [],
   "source": []
  },
  {
   "cell_type": "code",
   "execution_count": null,
   "id": "8b9e8e0f",
   "metadata": {},
   "outputs": [],
   "source": [
    "from sklearn.metrics import confusion_matrix, roc_curve, auc\n",
    "import seaborn as sns\n",
    "import matplotlib.pyplot as plt\n",
    "\n",
    "y_pred_prob_xgb = xgb_model.predict_proba(X_test)[:, 1]\n",
    "\n",
    "# Confusion Matrix\n",
    "cm_xgb = confusion_matrix(y_test, y_pred_xgb)\n",
    "sns.heatmap(cm_xgb, annot=True, fmt='d', cmap='Blues', cbar=False)\n",
    "plt.xlabel('Predicted')\n",
    "plt.ylabel('Actual')\n",
    "plt.title('Confusion Matrix - XGBoost')\n",
    "plt.show()\n",
    "\n",
    "# ROC Curve\n",
    "fpr_xgb, tpr_xgb, _ = roc_curve(y_test, y_pred_prob_xgb)\n",
    "roc_auc_xgb = auc(fpr_xgb, tpr_xgb)\n",
    "\n",
    "plt.figure()\n",
    "plt.plot(fpr_xgb, tpr_xgb, color='darkorange', lw=2, label='ROC curve (area = {:.2f})'.format(roc_auc_xgb))\n",
    "plt.plot([0, 1], [0, 1], color='navy', lw=2, linestyle='--')\n",
    "plt.xlabel('False Positive Rate')\n",
    "plt.ylabel('True Positive Rate')\n",
    "plt.title('Receiver Operating Characteristic - XGBoost')\n",
    "plt.legend(loc='lower right')\n",
    "plt.show()\n",
    "\n",
    "# Feature Importance Plot\n",
    "from xgboost import plot_importance\n",
    "\n",
    "plot_importance(xgb_model, max_num_features=10, importance_type='weight', show_values=False)\n",
    "plt.title('XGBoost - Top 10 Feature Importance')\n",
    "plt.show()"
   ]
  },
  {
   "cell_type": "code",
   "execution_count": null,
   "id": "ee94e669",
   "metadata": {},
   "outputs": [],
   "source": []
  }
 ],
 "metadata": {
  "kernelspec": {
   "display_name": "Python 3 (ipykernel)",
   "language": "python",
   "name": "python3"
  },
  "language_info": {
   "codemirror_mode": {
    "name": "ipython",
    "version": 3
   },
   "file_extension": ".py",
   "mimetype": "text/x-python",
   "name": "python",
   "nbconvert_exporter": "python",
   "pygments_lexer": "ipython3",
   "version": "3.11.5"
  }
 },
 "nbformat": 4,
 "nbformat_minor": 5
}
